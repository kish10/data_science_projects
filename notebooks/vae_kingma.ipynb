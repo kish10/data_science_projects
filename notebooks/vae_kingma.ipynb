{
 "cells": [
  {
   "cell_type": "code",
   "execution_count": 23,
   "metadata": {
    "colab": {},
    "colab_type": "code",
    "id": "CtcfLHfCGnCR"
   },
   "outputs": [],
   "source": [
    "import os\n",
    "import torch\n",
    "from torch import nn, optim\n",
    "from torch.nn import functional as F\n",
    "import torch.utils.data\n",
    "from torchvision import datasets, transforms\n",
    "from torchvision.utils import save_image"
   ]
  },
  {
   "cell_type": "markdown",
   "metadata": {},
   "source": [
    "# Get filepaths"
   ]
  },
  {
   "cell_type": "code",
   "execution_count": 24,
   "metadata": {
    "colab": {},
    "colab_type": "code",
    "id": "UTQ0JoK9n_ah"
   },
   "outputs": [],
   "source": [
    "# Home Directory\n",
    "HOME_DIR = os.getcwd().split('/notebooks')[0]\n",
    "\n",
    "# Data filepaths\n",
    "DATA_DIR = os.path.join(HOME_DIR, 'data')\n",
    "\n",
    "RESULTS_DIR = os.path.join(HOME_DIR, 'images/vae_kingma')"
   ]
  },
  {
   "cell_type": "markdown",
   "metadata": {},
   "source": [
    "# Get Data"
   ]
  },
  {
   "cell_type": "code",
   "execution_count": 25,
   "metadata": {
    "colab": {},
    "colab_type": "code",
    "id": "nygPZHGAfzTJ"
   },
   "outputs": [],
   "source": [
    "use_cuda = False\n",
    "batch_size = 128\n",
    "kwargs = {'num_workers': 1, 'pin_memory': True} if use_cuda else {}\n",
    "\n",
    "train_loader = torch.utils.data.DataLoader(\n",
    "    dataset = datasets.MNIST(\n",
    "        DATA_DIR, \n",
    "        train = True,\n",
    "        download = True,\n",
    "        transform = transforms.ToTensor() # can this not be in function call version ?\n",
    "    ),\n",
    "    batch_size = batch_size,\n",
    "    shuffle = True,\n",
    "    **kwargs\n",
    ")\n",
    "\n",
    "\n",
    "test_loader = torch.utils.data.DataLoader(\n",
    "   dataset = datasets.MNIST(\n",
    "        DATA_DIR, \n",
    "        train = False,\n",
    "        transform = transforms.ToTensor()),\n",
    "   batch_size = batch_size,\n",
    "   shuffle = True,\n",
    "   **kwargs\n",
    ")"
   ]
  },
  {
   "cell_type": "markdown",
   "metadata": {},
   "source": [
    "# Model Class"
   ]
  },
  {
   "cell_type": "code",
   "execution_count": 26,
   "metadata": {
    "colab": {},
    "colab_type": "code",
    "id": "GrnLJssqxStS"
   },
   "outputs": [],
   "source": [
    "class VAE(nn.Module):\n",
    "\n",
    "    def __init__(self):\n",
    "        \"\"\" Want to model the \"encoder\" & \"decoder\" with NNs.\n",
    "          The approximate posterior is N(mu,sigma^2) where mu & sigma are given by NNs.\n",
    "        \"\"\"\n",
    "    \n",
    "        super(VAE, self).__init__()\n",
    "  \n",
    "        # Encoder Layers (MNIST to Latent)\n",
    "        self.fc1 = nn.Linear(784, 400)\n",
    "        self.fc21 = nn.Linear(400, 20)\n",
    "        self.fc22 = nn.Linear(400, 20)\n",
    "  \n",
    "        # Decoder Layers (Latent to \"MNSIT\")\n",
    "        self.fc3 = nn.Linear(20, 400)\n",
    "        self.fc4 = nn.Linear(400, 784)\n",
    "  \n",
    "  \n",
    "    def encode(self, x):\n",
    "        h1 = F.relu(self.fc1(x))\n",
    "    \n",
    "        mu = self.fc21(h1)\n",
    "        logvar = self.fc22(h1) # Why was it \n",
    "    \n",
    "        return mu, logvar\n",
    "    \n",
    "  \n",
    "    def decode(self, z):\n",
    "    \n",
    "        h3 = F.relu(self.fc3(z))\n",
    "        decoded_pixel_probabilities = torch.sigmoid(self.fc4(h3))\n",
    "    \n",
    "        return decoded_pixel_probabilities\n",
    "    \n",
    "    \n",
    "    def reparametrization(self, mu, logvar):\n",
    "        \"\"\"Reparametarize the unobserved latent variable z with epsilon\"\"\"\n",
    "    \n",
    "        sigma = torch.exp(0.5*logvar)\n",
    "        eps = torch.randn_like(sigma)\n",
    "    \n",
    "        return mu + sigma*eps\n",
    "  \n",
    "  \n",
    "    def forward(self, x):\n",
    "    \n",
    "        mu, logvar = self.encode(x.view(-1, 784))\n",
    "        z = self.reparametrization(mu, logvar)\n",
    "    \n",
    "        decoded_pixel_probabilities = self.decode(z)\n",
    "    \n",
    "        return decoded_pixel_probabilities, mu, logvar\n",
    "    \n",
    "    "
   ]
  },
  {
   "cell_type": "markdown",
   "metadata": {},
   "source": [
    "# Loss Function"
   ]
  },
  {
   "cell_type": "code",
   "execution_count": 27,
   "metadata": {
    "colab": {},
    "colab_type": "code",
    "id": "JKsFF2Mh0G-y"
   },
   "outputs": [],
   "source": [
    "def loss_function(reconstructed_pixel_probabilities, original_images, mu, logvar):\n",
    "      \"\"\"Note: From Section 3 of Kignma et al VAE paper.\"\"\"\n",
    "  \n",
    "      kld = - 0.5*torch.sum(1 + logvar - mu.pow(2) - logvar.exp()) # is the use of logvar here, why it's assumed to be logvar before ?\n",
    "      bce = F.binary_cross_entropy(reconstructed_pixel_probabilities, original_images.view(-1, 784), reduction = 'sum')\n",
    "  \n",
    "      loss = kld + bce \n",
    "      # Note that both kdl & bce are negative. \n",
    "      ## In paper want to maximize the \"loss\" so they are positive but we optimize by finding the minimum in pytorch.\n",
    "  \n",
    "      return loss"
   ]
  },
  {
   "cell_type": "markdown",
   "metadata": {},
   "source": [
    "# Train & Test functions"
   ]
  },
  {
   "cell_type": "code",
   "execution_count": 28,
   "metadata": {
    "colab": {},
    "colab_type": "code",
    "id": "_VK9XBgq2urz"
   },
   "outputs": [],
   "source": [
    "device = torch.device(\"cpu\")\n",
    "\n",
    "model = VAE().to(device)\n",
    "optimizer = optim.Adam(model.parameters(), lr=1e-3)\n",
    "\n",
    "log_interval = 10\n",
    "\n",
    "\n",
    "def train(epoch):\n",
    "    model.train() # sets the model in training mode.\n",
    "    train_loss = 0\n",
    "  \n",
    "    for batch_index, (original_images, _) in enumerate(train_loader):\n",
    "        # Add .to(device) for the when CUDA is used\n",
    "        original_images = original_images.to(device) \n",
    "    \n",
    "        # Clear gradients since will iteratively update weights based on gradient at different data points.\n",
    "        optimizer.zero_grad() \n",
    "    \n",
    "        reconstructed_pixel_probs, mu, logvar = model(original_images)\n",
    "        loss = loss_function(reconstructed_pixel_probs, original_images, mu, logvar)\n",
    "    \n",
    "    \n",
    "        # calculate the gradient and update the weights\n",
    "        loss.backward()\n",
    "        train_loss += loss.item()\n",
    "        optimizer.step()\n",
    "    \n",
    "        # print training updates\n",
    "        if batch_index % log_interval == 0:\n",
    "            print(\n",
    "                'Train Epoch: {} [{}/{} ({:.0f}%)]\\tLoss: {:.6f}'.format(\n",
    "                    epoch, batch_index * len(original_images), len(train_loader.dataset),\n",
    "                    100. * batch_index / len(train_loader), loss.item() / len(original_images)\n",
    "                )\n",
    "            )\n",
    "  \n",
    "    print('====> Epoch: {} Average loss: {:.4f}'.format(epoch, train_loss / len(train_loader.dataset)))\n",
    "\n",
    "\n",
    "def test(epoch):\n",
    "    model.eval()\n",
    "    test_loss = 0\n",
    "  \n",
    "    # Disable gradient calculation since won't be any updating weights (& calling Tensor.backward()).\n",
    "    with torch.no_grad(): \n",
    "        for i, (data, _) in enumerate(test_loader):\n",
    "            data = data.to(device)\n",
    "            reconstructed_pixel_probs, mu, logvar = model(data)\n",
    "            test_loss += loss_function(reconstructed_pixel_probs, data, mu, logvar).item()\n",
    "      \n",
    "            # print test updates\n",
    "            if i == 0:\n",
    "                n = min(data.size(0), 8)\n",
    "                comparison = torch.cat(\n",
    "                    [data[:n], reconstructed_pixel_probs.view(batch_size, 1, 28, 28)[:n]]\n",
    "                )\n",
    "                save_image(comparison.cpu(), RESULTS_DIR + '/reconstruction_' + str(epoch) + '.png', nrow=n)\n",
    "  \n",
    "        # print average test loss\n",
    "        test_loss /= len(test_loader.dataset)\n",
    "        print('====> Test set loss: {:.4f}'.format(test_loss))"
   ]
  },
  {
   "cell_type": "markdown",
   "metadata": {},
   "source": [
    "# Train \\& Test model"
   ]
  },
  {
   "cell_type": "code",
   "execution_count": 22,
   "metadata": {
    "colab": {
     "base_uri": "https://localhost:8080/",
     "height": 1000
    },
    "colab_type": "code",
    "id": "vmL5-7hEDRJO",
    "outputId": "0e292cfb-4080-4cf3-a795-871bc6f53f49"
   },
   "outputs": [
    {
     "name": "stdout",
     "output_type": "stream",
     "text": [
      "Train Epoch: 0 [0/60000 (0%)]\tLoss: 549.956787\n",
      "Train Epoch: 0 [1280/60000 (2%)]\tLoss: 297.005096\n",
      "Train Epoch: 0 [2560/60000 (4%)]\tLoss: 234.541748\n",
      "Train Epoch: 0 [3840/60000 (6%)]\tLoss: 227.055008\n",
      "Train Epoch: 0 [5120/60000 (9%)]\tLoss: 220.930695\n",
      "Train Epoch: 0 [6400/60000 (11%)]\tLoss: 216.563812\n",
      "Train Epoch: 0 [7680/60000 (13%)]\tLoss: 207.207047\n",
      "Train Epoch: 0 [8960/60000 (15%)]\tLoss: 202.432205\n",
      "Train Epoch: 0 [10240/60000 (17%)]\tLoss: 202.853256\n",
      "Train Epoch: 0 [11520/60000 (19%)]\tLoss: 182.506790\n",
      "Train Epoch: 0 [12800/60000 (21%)]\tLoss: 178.933777\n",
      "Train Epoch: 0 [14080/60000 (23%)]\tLoss: 177.031311\n",
      "Train Epoch: 0 [15360/60000 (26%)]\tLoss: 173.265701\n",
      "Train Epoch: 0 [16640/60000 (28%)]\tLoss: 169.247253\n",
      "Train Epoch: 0 [17920/60000 (30%)]\tLoss: 163.419159\n",
      "Train Epoch: 0 [19200/60000 (32%)]\tLoss: 163.779633\n",
      "Train Epoch: 0 [20480/60000 (34%)]\tLoss: 163.341309\n",
      "Train Epoch: 0 [21760/60000 (36%)]\tLoss: 155.142609\n",
      "Train Epoch: 0 [23040/60000 (38%)]\tLoss: 158.467255\n",
      "Train Epoch: 0 [24320/60000 (41%)]\tLoss: 154.667496\n",
      "Train Epoch: 0 [25600/60000 (43%)]\tLoss: 156.438980\n",
      "Train Epoch: 0 [26880/60000 (45%)]\tLoss: 150.272293\n",
      "Train Epoch: 0 [28160/60000 (47%)]\tLoss: 151.602356\n",
      "Train Epoch: 0 [29440/60000 (49%)]\tLoss: 149.656082\n",
      "Train Epoch: 0 [30720/60000 (51%)]\tLoss: 148.703949\n",
      "Train Epoch: 0 [32000/60000 (53%)]\tLoss: 145.484665\n",
      "Train Epoch: 0 [33280/60000 (55%)]\tLoss: 142.826355\n",
      "Train Epoch: 0 [34560/60000 (58%)]\tLoss: 141.621887\n",
      "Train Epoch: 0 [35840/60000 (60%)]\tLoss: 139.005051\n",
      "Train Epoch: 0 [37120/60000 (62%)]\tLoss: 142.902267\n",
      "Train Epoch: 0 [38400/60000 (64%)]\tLoss: 135.997406\n",
      "Train Epoch: 0 [39680/60000 (66%)]\tLoss: 134.589767\n",
      "Train Epoch: 0 [40960/60000 (68%)]\tLoss: 141.259109\n",
      "Train Epoch: 0 [42240/60000 (70%)]\tLoss: 133.761047\n",
      "Train Epoch: 0 [43520/60000 (72%)]\tLoss: 142.992203\n",
      "Train Epoch: 0 [44800/60000 (75%)]\tLoss: 135.871033\n",
      "Train Epoch: 0 [46080/60000 (77%)]\tLoss: 133.340897\n",
      "Train Epoch: 0 [47360/60000 (79%)]\tLoss: 138.961029\n",
      "Train Epoch: 0 [48640/60000 (81%)]\tLoss: 128.370590\n",
      "Train Epoch: 0 [49920/60000 (83%)]\tLoss: 131.458649\n",
      "Train Epoch: 0 [51200/60000 (85%)]\tLoss: 132.430969\n",
      "Train Epoch: 0 [52480/60000 (87%)]\tLoss: 131.703918\n",
      "Train Epoch: 0 [53760/60000 (90%)]\tLoss: 128.477509\n",
      "Train Epoch: 0 [55040/60000 (92%)]\tLoss: 134.629196\n",
      "Train Epoch: 0 [56320/60000 (94%)]\tLoss: 131.213409\n",
      "Train Epoch: 0 [57600/60000 (96%)]\tLoss: 130.026764\n",
      "Train Epoch: 0 [58880/60000 (98%)]\tLoss: 127.274017\n",
      "====> Epoch: 0 Average loss: 164.4333\n",
      "====> Test set loss: 127.5191\n",
      "Train Epoch: 1 [0/60000 (0%)]\tLoss: 134.502197\n",
      "Train Epoch: 1 [1280/60000 (2%)]\tLoss: 128.671280\n",
      "Train Epoch: 1 [2560/60000 (4%)]\tLoss: 125.358429\n",
      "Train Epoch: 1 [3840/60000 (6%)]\tLoss: 124.634674\n",
      "Train Epoch: 1 [5120/60000 (9%)]\tLoss: 126.561417\n",
      "Train Epoch: 1 [6400/60000 (11%)]\tLoss: 122.530327\n",
      "Train Epoch: 1 [7680/60000 (13%)]\tLoss: 125.283875\n",
      "Train Epoch: 1 [8960/60000 (15%)]\tLoss: 127.346146\n",
      "Train Epoch: 1 [10240/60000 (17%)]\tLoss: 122.251633\n",
      "Train Epoch: 1 [11520/60000 (19%)]\tLoss: 129.638245\n",
      "Train Epoch: 1 [12800/60000 (21%)]\tLoss: 119.689438\n",
      "Train Epoch: 1 [14080/60000 (23%)]\tLoss: 126.247192\n",
      "Train Epoch: 1 [15360/60000 (26%)]\tLoss: 123.044250\n",
      "Train Epoch: 1 [16640/60000 (28%)]\tLoss: 123.108490\n",
      "Train Epoch: 1 [17920/60000 (30%)]\tLoss: 120.077591\n",
      "Train Epoch: 1 [19200/60000 (32%)]\tLoss: 125.324295\n",
      "Train Epoch: 1 [20480/60000 (34%)]\tLoss: 121.615417\n",
      "Train Epoch: 1 [21760/60000 (36%)]\tLoss: 121.575699\n",
      "Train Epoch: 1 [23040/60000 (38%)]\tLoss: 125.710335\n",
      "Train Epoch: 1 [24320/60000 (41%)]\tLoss: 118.683243\n",
      "Train Epoch: 1 [25600/60000 (43%)]\tLoss: 121.945068\n",
      "Train Epoch: 1 [26880/60000 (45%)]\tLoss: 120.779625\n",
      "Train Epoch: 1 [28160/60000 (47%)]\tLoss: 125.876526\n",
      "Train Epoch: 1 [29440/60000 (49%)]\tLoss: 120.200935\n",
      "Train Epoch: 1 [30720/60000 (51%)]\tLoss: 121.534721\n",
      "Train Epoch: 1 [32000/60000 (53%)]\tLoss: 124.386192\n",
      "Train Epoch: 1 [33280/60000 (55%)]\tLoss: 123.640106\n",
      "Train Epoch: 1 [34560/60000 (58%)]\tLoss: 119.739700\n",
      "Train Epoch: 1 [35840/60000 (60%)]\tLoss: 120.690521\n",
      "Train Epoch: 1 [37120/60000 (62%)]\tLoss: 119.547165\n",
      "Train Epoch: 1 [38400/60000 (64%)]\tLoss: 117.307343\n",
      "Train Epoch: 1 [39680/60000 (66%)]\tLoss: 115.156418\n",
      "Train Epoch: 1 [40960/60000 (68%)]\tLoss: 118.446564\n",
      "Train Epoch: 1 [42240/60000 (70%)]\tLoss: 113.721802\n",
      "Train Epoch: 1 [43520/60000 (72%)]\tLoss: 122.363640\n",
      "Train Epoch: 1 [44800/60000 (75%)]\tLoss: 121.705002\n",
      "Train Epoch: 1 [46080/60000 (77%)]\tLoss: 121.994354\n",
      "Train Epoch: 1 [47360/60000 (79%)]\tLoss: 119.356880\n",
      "Train Epoch: 1 [48640/60000 (81%)]\tLoss: 112.184944\n",
      "Train Epoch: 1 [49920/60000 (83%)]\tLoss: 118.205772\n",
      "Train Epoch: 1 [51200/60000 (85%)]\tLoss: 111.772263\n",
      "Train Epoch: 1 [52480/60000 (87%)]\tLoss: 119.376923\n",
      "Train Epoch: 1 [53760/60000 (90%)]\tLoss: 118.207748\n",
      "Train Epoch: 1 [55040/60000 (92%)]\tLoss: 122.453247\n",
      "Train Epoch: 1 [56320/60000 (94%)]\tLoss: 113.458847\n",
      "Train Epoch: 1 [57600/60000 (96%)]\tLoss: 116.449409\n",
      "Train Epoch: 1 [58880/60000 (98%)]\tLoss: 120.142059\n",
      "====> Epoch: 1 Average loss: 121.6843\n",
      "====> Test set loss: 115.9679\n"
     ]
    }
   ],
   "source": [
    "epochs = 1\n",
    "\n",
    "for epoch in range(epochs + 1):\n",
    "    train(epoch)\n",
    "    test(epoch)\n",
    "  \n",
    "    with torch.no_grad():\n",
    "        sample = torch.randn(64, 20).to(device)\n",
    "        sample = model.decode(sample).cpu()\n",
    "        save_image(sample.view(64, 1, 28, 28),  RESULTS_DIR + '/sample_' + str(epoch) + '.png')"
   ]
  }
 ],
 "metadata": {
  "colab": {
   "collapsed_sections": [],
   "name": "Kingma_VAE.ipynb",
   "provenance": [],
   "version": "0.3.2"
  },
  "kernelspec": {
   "display_name": "Python 3",
   "language": "python",
   "name": "python3"
  },
  "language_info": {
   "codemirror_mode": {
    "name": "ipython",
    "version": 3
   },
   "file_extension": ".py",
   "mimetype": "text/x-python",
   "name": "python",
   "nbconvert_exporter": "python",
   "pygments_lexer": "ipython3",
   "version": "3.7.4"
  }
 },
 "nbformat": 4,
 "nbformat_minor": 1
}
